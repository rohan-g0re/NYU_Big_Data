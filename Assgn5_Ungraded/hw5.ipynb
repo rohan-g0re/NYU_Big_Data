{
 "cells": [
  {
   "cell_type": "markdown",
   "id": "1b46c8e5-9fe4-4152-b63f-6a0e9b00f7cd",
   "metadata": {},
   "source": [
    "## Rohan Gore\n",
    "##### ~rmg9725\n",
    "###\n",
    "###### _Collaborators: Claude 3.7 Sonnet_\n",
    "###"
   ]
  },
  {
   "cell_type": "code",
   "execution_count": 7,
   "id": "d343cfff-7ffd-413e-8b16-3e911b688844",
   "metadata": {},
   "outputs": [],
   "source": [
    "# !pip install pyarrow"
   ]
  },
  {
   "cell_type": "markdown",
   "id": "597dead9-30a9-48ec-8e1c-c5bf770c22f1",
   "metadata": {},
   "source": [
    "## Question 1"
   ]
  },
  {
   "cell_type": "code",
   "execution_count": 1,
   "id": "481316e6-7ab4-4eeb-a762-29afd2c858cc",
   "metadata": {},
   "outputs": [],
   "source": [
    "import pandas as pd\n",
    "import json\n",
    "import numpy as np\n",
    "from haversine import haversine, Unit\n",
    "import os\n",
    "\n",
    "# Since Dask with PyArrow is causing issues, we'll use pandas first and then convert\n",
    "# Load the restaurants data\n",
    "restaurants_path = 'shared/hw4/Restaurants_in_Durham_County_NC.csv'\n",
    "restaurants_df = pd.read_csv(\n",
    "    restaurants_path, \n",
    "    sep=';',\n",
    "    dtype={\n",
    "        'Seats': 'float64',\n",
    "        'geolocation': 'object',\n",
    "        'Status': 'object',\n",
    "        'Rpt_Area_Desc': 'object'\n",
    "    }\n",
    ")\n",
    "\n",
    "# Now convert to Dask DataFrame with pandas backend\n",
    "import dask.dataframe as dd\n",
    "restaurants_ddf = dd.from_pandas(restaurants_df, npartitions=4)\n",
    "\n",
    "# Load foreclosures JSON\n",
    "foreclosures_path = 'shared/hw4/durham-nc-foreclosure-2006-2016.json'\n",
    "with open(foreclosures_path, 'r') as f:\n",
    "    foreclosures_data = json.load(f)\n"
   ]
  },
  {
   "cell_type": "code",
   "execution_count": 2,
   "id": "e68d7f69-a763-4cc0-894f-aab03929316e",
   "metadata": {},
   "outputs": [],
   "source": [
    "\n",
    "# Extract coordinates for easier processing\n",
    "for item in foreclosures_data:\n",
    "    if 'geometry' in item and 'coordinates' in item['geometry']:\n",
    "        item['longitude'] = item['geometry']['coordinates'][0]\n",
    "        item['latitude'] = item['geometry']['coordinates'][1]\n",
    "\n",
    "# Convert to pandas DataFrame\n",
    "foreclosures_df = pd.DataFrame(foreclosures_data)\n",
    "\n",
    "# Convert to Dask DataFrame\n",
    "foreclosures_ddf = dd.from_pandas(foreclosures_df, npartitions=4)\n"
   ]
  },
  {
   "cell_type": "markdown",
   "id": "f0e50e31-d3d2-40f9-ac5c-142799efdd54",
   "metadata": {},
   "source": [
    "#### Question 1.1"
   ]
  },
  {
   "cell_type": "code",
   "execution_count": 3,
   "id": "6b0242bf-251f-400c-81c1-27e27b32c31d",
   "metadata": {},
   "outputs": [],
   "source": [
    "\n",
    "# Q1.1: Find active food service restaurants closest to the coordinate\n",
    "target_coord = (35.994914, -78.897133)\n",
    "\n",
    "# Filter restaurants by status and area description using Dask operations\n",
    "filtered_restaurants_ddf = restaurants_ddf[\n",
    "    (restaurants_ddf['Status'] == 'ACTIVE') & \n",
    "    (restaurants_ddf['Rpt_Area_Desc'] == 'Food Service')\n",
    "]\n",
    "\n",
    "# Compute to pandas for distance calculation\n",
    "filtered_restaurants = filtered_restaurants_ddf.compute()\n",
    "\n",
    "# Parse geolocation and calculate distances\n",
    "def parse_coords(geo_str):\n",
    "    if isinstance(geo_str, str) and ',' in geo_str:\n",
    "        try:\n",
    "            lat_str, lon_str = geo_str.split(',')\n",
    "            return (float(lat_str.strip()), float(lon_str.strip()))\n",
    "        except:\n",
    "            return None\n",
    "    return None\n",
    "\n",
    "filtered_restaurants['coords'] = filtered_restaurants['geolocation'].apply(parse_coords)\n",
    "filtered_restaurants['distance'] = filtered_restaurants['coords'].apply(\n",
    "    lambda x: haversine(target_coord, x, unit=Unit.MILES) if x is not None else float('inf')\n",
    ")\n",
    "\n"
   ]
  },
  {
   "cell_type": "code",
   "execution_count": 4,
   "id": "06435475-b10e-4cb3-bdf0-f6b5842013ea",
   "metadata": {},
   "outputs": [
    {
     "name": "stdout",
     "output_type": "stream",
     "text": [
      "\n",
      "Q1.1: Closest active food service restaurant:\n",
      "Name: OLD HAVANA SANDWICH SHOP\n",
      "Address: 310 E. MAIN ST.\n",
      "Distance: 0.1258 miles\n"
     ]
    }
   ],
   "source": [
    "# Find the closest restaurant\n",
    "closest_restaurant = filtered_restaurants.sort_values('distance').iloc[0]\n",
    "print(\"\\nQ1.1: Closest active food service restaurant:\")\n",
    "print(f\"Name: {closest_restaurant['Premise_Name']}\")\n",
    "print(f\"Address: {closest_restaurant['Premise_Address1']}\")\n",
    "print(f\"Distance: {closest_restaurant['distance']:.4f} miles\")\n"
   ]
  },
  {
   "cell_type": "markdown",
   "id": "a1d3e89e-7c9e-4c12-b4c4-878144c66e8a",
   "metadata": {},
   "source": [
    "#### Question 1.2"
   ]
  },
  {
   "cell_type": "code",
   "execution_count": 5,
   "id": "051cf14d-c280-41c5-8ccb-412dbf4db479",
   "metadata": {},
   "outputs": [],
   "source": [
    "\n",
    "# Q1.2: Find foreclosures within 1 mile radius of the closest restaurant\n",
    "restaurant_coord = closest_restaurant['coords']\n",
    "\n",
    "# Convert foreclosures to pandas for distance calculation\n",
    "foreclosures_pd = foreclosures_ddf.compute()\n",
    "\n",
    "# Calculate distances from the restaurant to each foreclosure\n",
    "foreclosures_pd['distance_from_restaurant'] = foreclosures_pd.apply(\n",
    "    lambda row: haversine(restaurant_coord, (row['latitude'], row['longitude']), unit=Unit.MILES) \n",
    "    if pd.notna(row['latitude']) and pd.notna(row['longitude']) else float('inf'),\n",
    "    axis=1\n",
    ")\n"
   ]
  },
  {
   "cell_type": "code",
   "execution_count": 6,
   "id": "12912907-9350-48ce-8f07-0af22c7e7e2d",
   "metadata": {},
   "outputs": [
    {
     "name": "stdout",
     "output_type": "stream",
     "text": [
      "\n",
      "Q1.2: Number of foreclosures within 1 mile of the restaurant: 320\n"
     ]
    }
   ],
   "source": [
    "\n",
    "# Count foreclosures within 1 mile\n",
    "foreclosures_within_1mile = foreclosures_pd[foreclosures_pd['distance_from_restaurant'] <= 1].shape[0]\n",
    "print(f\"\\nQ1.2: Number of foreclosures within 1 mile of the restaurant: {foreclosures_within_1mile}\")\n"
   ]
  },
  {
   "cell_type": "code",
   "execution_count": 7,
   "id": "1fb956b2-707e-4fc8-b664-230ea2d703f3",
   "metadata": {},
   "outputs": [
    {
     "name": "stdout",
     "output_type": "stream",
     "text": [
      "GG\n"
     ]
    }
   ],
   "source": [
    "print (\"GG\")"
   ]
  }
 ],
 "metadata": {
  "kernelspec": {
   "display_name": "Python [conda env:bigdata]",
   "language": "python",
   "name": "conda-env-bigdata-py"
  },
  "language_info": {
   "codemirror_mode": {
    "name": "ipython",
    "version": 3
   },
   "file_extension": ".py",
   "mimetype": "text/x-python",
   "name": "python",
   "nbconvert_exporter": "python",
   "pygments_lexer": "ipython3",
   "version": "3.12.9"
  }
 },
 "nbformat": 4,
 "nbformat_minor": 5
}
