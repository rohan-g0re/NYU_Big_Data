{
 "cells": [
  {
   "cell_type": "markdown",
   "id": "180575c6-499f-4fd1-be8f-7bcca20fbbeb",
   "metadata": {},
   "source": [
    "## Rohan Gore \n",
    "###### rmg9725@nyu.edu\n",
    "###### Collaborators: PerplexityAI\n",
    "###"
   ]
  },
  {
   "cell_type": "code",
   "execution_count": 1,
   "id": "a9d1822b-adcb-4ad9-b2df-6f647f478acd",
   "metadata": {},
   "outputs": [
    {
     "name": "stderr",
     "output_type": "stream",
     "text": [
      "Setting default log level to \"WARN\".\n",
      "To adjust logging level use sc.setLogLevel(newLevel). For SparkR, use setLogLevel(newLevel).\n",
      "25/04/13 15:57:58 WARN NativeCodeLoader: Unable to load native-hadoop library for your platform... using builtin-java classes where applicable\n",
      "                                                                                \r"
     ]
    }
   ],
   "source": [
    "from pyspark.sql import SparkSession\n",
    "from pyspark.sql.functions import sum, col, explode, when, lit, udf\n",
    "from pyspark.sql.types import StringType\n",
    "from pyspark.sql.functions import round\n",
    "from pyspark.sql.window import Window\n",
    "import pyspark.sql.functions as F\n",
    "\n",
    "\n",
    "# Initialize Spark session\n",
    "spark = SparkSession.builder.appName(\"E-Commerce Analysis\").getOrCreate()\n",
    "\n",
    "# Load datasets\n",
    "customers_df = spark.read.json(\"customers.json\")\n",
    "orders_df = spark.read.json(\"orders.json\")\n",
    "order_items_df = spark.read.json(\"order_items.json\")"
   ]
  },
  {
   "cell_type": "markdown",
   "id": "6ea319b1-00db-4ea5-a041-f964547f50ec",
   "metadata": {},
   "source": [
    "## Question 1"
   ]
  },
  {
   "cell_type": "code",
   "execution_count": 2,
   "id": "2837b09a-28cd-4b31-956d-146006f0ae69",
   "metadata": {},
   "outputs": [],
   "source": [
    "\n",
    "# calculating total amount per order and appending it ahead\n",
    "\n",
    "order_totals = order_items_df.groupBy(\"order_id\") \\\n",
    "    .agg(sum(col(\"quantity\") * col(\"unit_price\")).alias(\"order_total\"))\n",
    "\n",
    "\n",
    "# Join with orders and filter out cancelled orders\n",
    "valid_orders = orders_df.filter(col(\"status\") != \"Cancelled\") \\\n",
    "    .join(order_totals, \"order_id\")\n"
   ]
  },
  {
   "cell_type": "code",
   "execution_count": 3,
   "id": "abcdd995-32ba-46f9-8022-8f3cb4fb1e2c",
   "metadata": {},
   "outputs": [],
   "source": [
    "# Calculate total spending per customer\n",
    "\n",
    "customer_spending = valid_orders.groupBy(\"customer_id\") \\\n",
    "    .agg(sum(\"order_total\").alias(\"total_spent\"))\n",
    "\n",
    "\n",
    "\n",
    "# join that with customer data for providing more detailsin the final view \n",
    "customer_spending_with_details = customer_spending.join(customers_df, \"customer_id\") \\\n",
    "    .select(\"customer_id\", \"name\", \"tier\", \"total_spent\") \\\n",
    "    .orderBy(col(\"total_spent\").desc())\n",
    "\n",
    "\n",
    "#rounding values\n",
    "customer_spending_with_details = customer_spending_with_details.withColumn(\n",
    "    \"total_spent\", \n",
    "    round(col(\"total_spent\"), 2)\n",
    ")\n"
   ]
  },
  {
   "cell_type": "code",
   "execution_count": 4,
   "id": "ba523a49-e88a-4803-97fc-9917fa4bccc2",
   "metadata": {},
   "outputs": [
    {
     "name": "stderr",
     "output_type": "stream",
     "text": [
      "[Stage 7:===========================================================(1 + 0) / 1]\r"
     ]
    },
    {
     "name": "stdout",
     "output_type": "stream",
     "text": [
      "+-----------+---------------+------+-----------+\n",
      "|customer_id|           name|  tier|total_spent|\n",
      "+-----------+---------------+------+-----------+\n",
      "|          1|     John Smith|  Gold|    1488.92|\n",
      "|          3|   Robert Brown|Bronze|     679.95|\n",
      "|          2|   Mary Johnson|Silver|     577.91|\n",
      "|          7| James Anderson|  Gold|     369.98|\n",
      "|         10| Jennifer Clark|  Gold|     345.98|\n",
      "|          8|Patricia Thomas|Silver|     209.97|\n",
      "|          4|    Linda Davis|  Gold|     149.97|\n",
      "|          5| Michael Wilson|Silver|      62.95|\n",
      "+-----------+---------------+------+-----------+\n",
      "\n"
     ]
    },
    {
     "name": "stderr",
     "output_type": "stream",
     "text": [
      "                                                                                \r"
     ]
    }
   ],
   "source": [
    "# Watch results\n",
    "customer_spending_with_details.show()\n"
   ]
  },
  {
   "cell_type": "markdown",
   "id": "b897a1f1-0987-4279-bb9f-c95748067284",
   "metadata": {},
   "source": [
    "- As the question does not tell how many \"MOST SPENDING\" customers to show in the final view, I am showing all the customers in the decreasing order.\n",
    "- If the question is rephrased as \"Show which X customers spend the most money overall\" where X is a number, then we can view the result by executing the code:\n",
    "  ```customer_spending_with_details.show(X)```"
   ]
  },
  {
   "cell_type": "markdown",
   "id": "a2649733-3fc3-4224-b82e-5ee3afd0df1f",
   "metadata": {},
   "source": [
    "## Question 2"
   ]
  },
  {
   "cell_type": "code",
   "execution_count": 5,
   "id": "32a6bafb-0069-4d13-b66b-141f04a32964",
   "metadata": {},
   "outputs": [],
   "source": [
    "# Explode the categories array to get individual categories\n",
    "categories_df = orders_df.filter(col(\"status\") != \"Cancelled\") \\\n",
    "    .select(\"order_id\", \"customer_id\", explode(col(\"categories\")).alias(\"category\"))\n",
    "\n",
    "\n",
    "# Append/Join with customers to get tier information\n",
    "customer_categories = categories_df.join(customers_df, \"customer_id\") \\\n",
    "    .select(\"tier\", \"category\")\n"
   ]
  },
  {
   "cell_type": "code",
   "execution_count": 6,
   "id": "e5d995ac-8007-4ce5-afae-a26fe61c1bbc",
   "metadata": {},
   "outputs": [],
   "source": [
    "\n",
    "\n",
    "# Count category occurrences by tier\n",
    "\n",
    "category_counts_by_tier = customer_categories.groupBy(\"tier\", \"category\") \\\n",
    "    .count() \\\n",
    "    .orderBy(\"tier\", col(\"count\").desc())\n"
   ]
  },
  {
   "cell_type": "code",
   "execution_count": 7,
   "id": "928151ef-42d0-40f0-9969-afcc32ac5d08",
   "metadata": {},
   "outputs": [],
   "source": [
    "\n",
    "# Map and find the most popular category for each tier\n",
    "\n",
    "#doing this using a window function\n",
    "\n",
    "window_spec = Window.partitionBy(\"tier\").orderBy(col(\"count\").desc())\n",
    "top_categories_by_tier = category_counts_by_tier \\\n",
    "    .withColumn(\"rank\", F.rank().over(window_spec)) \\\n",
    "    .filter(col(\"rank\") == 1) \\\n",
    "    .select(\"tier\", \"category\", \"count\")\n",
    "\n"
   ]
  },
  {
   "cell_type": "code",
   "execution_count": 8,
   "id": "8c2e1d28-4078-4d5a-bb07-53e7fdf46695",
   "metadata": {},
   "outputs": [
    {
     "name": "stdout",
     "output_type": "stream",
     "text": [
      "Most Popular Categories for Gold Tier:\n"
     ]
    },
    {
     "name": "stderr",
     "output_type": "stream",
     "text": [
      "                                                                                \r"
     ]
    },
    {
     "name": "stdout",
     "output_type": "stream",
     "text": [
      "+----+-----------+-----+\n",
      "|tier|   category|count|\n",
      "+----+-----------+-----+\n",
      "|Gold|electronics|    3|\n",
      "+----+-----------+-----+\n",
      "\n",
      "Most Popular Categories for Silver Tier:\n",
      "+------+-----------+-----+\n",
      "|  tier|   category|count|\n",
      "+------+-----------+-----+\n",
      "|Silver|accessories|    2|\n",
      "+------+-----------+-----+\n",
      "\n",
      "Most Popular Categories for Bronze Tier:\n",
      "+------+-----------+-----+\n",
      "|  tier|   category|count|\n",
      "+------+-----------+-----+\n",
      "|Bronze|      books|    1|\n",
      "|Bronze|electronics|    1|\n",
      "|Bronze|       home|    1|\n",
      "|Bronze| stationery|    1|\n",
      "+------+-----------+-----+\n",
      "\n"
     ]
    }
   ],
   "source": [
    "\n",
    "\n",
    "# Categorizing just for proper visualization \n",
    "\n",
    "gold_categories = top_categories_by_tier.filter(col(\"tier\") == \"Gold\")\n",
    "print(\"Most Popular Categories for Gold Tier:\")\n",
    "gold_categories.show()\n",
    "\n",
    "silver_categories = top_categories_by_tier.filter(col(\"tier\") == \"Silver\")\n",
    "print(\"Most Popular Categories for Silver Tier:\")\n",
    "silver_categories.show()\n",
    "\n",
    "bronze_categories = top_categories_by_tier.filter(col(\"tier\") == \"Bronze\")\n",
    "print(\"Most Popular Categories for Bronze Tier:\")\n",
    "bronze_categories.show()\n",
    "\n"
   ]
  },
  {
   "cell_type": "markdown",
   "id": "c90a5002-d5c5-4bcd-9bf9-769eaa295795",
   "metadata": {},
   "source": [
    "- As the question does not tell how many \"MOST POPULAR\" categories for each tier are to be shown in the final view, I am showing ONLY the most popular category (top 1).\n",
    "- If there are multiple categories with same number of occurences, then all of them will be shown, as in  the case of \"Bronze Tier\".\n",
    "  \n",
    "- If the question is rephrased as \"Show the most popular X product categories for each customer tier (Gold, Silver, Bronze)\" where X is a number, then we can view the result by altering the code:\n",
    "  ```\n",
    "  top_categories_by_tier = category_counts_by_tier \\\n",
    "    .withColumn(\"rank\", F.rank().over(window_spec)) \\\n",
    "    .filter(col(\"rank\") <= X) \\ # <--------------------------------- change over here\n",
    "    .select(\"tier\", \"category\", \"count\")\n",
    "  ```"
   ]
  },
  {
   "cell_type": "markdown",
   "id": "96e6cecc-94ff-45e8-936e-931d7035232e",
   "metadata": {},
   "source": [
    "## Question 3"
   ]
  },
  {
   "cell_type": "code",
   "execution_count": 9,
   "id": "237a36c6-3c8c-4f19-b576-9db6c7929e42",
   "metadata": {},
   "outputs": [],
   "source": [
    "\n",
    "\n",
    "# Define UDF for price classification\n",
    "classify_price_udf = udf(lambda price: \n",
    "    \"Budget\" if price < 50.0 else \n",
    "    \"Mid-range\" if price < 200.0 else \n",
    "    \"Premium\", StringType())\n",
    "\n"
   ]
  },
  {
   "cell_type": "code",
   "execution_count": 10,
   "id": "077bbb41-af49-476d-877c-c2a4758533e7",
   "metadata": {},
   "outputs": [],
   "source": [
    "\n",
    "\n",
    "\n",
    "# Apply price classification to order items\n",
    "classified_items = order_items_df \\\n",
    "    .withColumn(\"price_category\", classify_price_udf(col(\"unit_price\"))) \\\n",
    "    .withColumn(\"item_total\", col(\"quantity\") * col(\"unit_price\"))\n",
    "\n",
    "\n",
    "\n",
    "# Join with orders (excluding cancelled) and customers\n",
    "spending_by_price_category = classified_items \\\n",
    "    .join(orders_df.filter(col(\"status\") != \"Cancelled\"), \"order_id\") \\\n",
    "    .join(customers_df, \"customer_id\") \\\n",
    "    .select(\"tier\", \"price_category\", \"item_total\", \"quantity\") \n",
    "\n"
   ]
  },
  {
   "cell_type": "code",
   "execution_count": 11,
   "id": "9235c286-577e-47b3-9318-807019804d13",
   "metadata": {},
   "outputs": [],
   "source": [
    "\n",
    "# Calculating total spending by --> Tier and Price Category\n",
    "\n",
    "tier_price_spending = spending_by_price_category \\\n",
    "    .groupBy(\"tier\", \"price_category\") \\\n",
    "    .agg(\n",
    "        sum(\"item_total\").alias(\"category_total\"),\n",
    "        sum(\"quantity\").alias(\"product_count\") \n",
    "    )\n"
   ]
  },
  {
   "cell_type": "code",
   "execution_count": 12,
   "id": "f58bdbb3-440c-47ff-9c11-b5a35727ba0c",
   "metadata": {},
   "outputs": [],
   "source": [
    "\n",
    "# Calculate total spending wrt NEW TIERS \n",
    "\n",
    "tier_total_spending = spending_by_price_category \\\n",
    "    .groupBy(\"tier\") \\\n",
    "    .agg(sum(\"item_total\").alias(\"tier_total\"))\n"
   ]
  },
  {
   "cell_type": "code",
   "execution_count": 13,
   "id": "2c184900-8dc2-40c8-ae51-1ed9faeef9d8",
   "metadata": {},
   "outputs": [],
   "source": [
    "\n",
    "#  Join to calculate percentages\n",
    "\n",
    "tier_price_distribution = tier_price_spending.join(tier_total_spending, \"tier\") \\\n",
    "    .withColumn(\"percentage\", (col(\"category_total\") / col(\"tier_total\") * 100)) \\\n",
    "    .select(\"tier\", \"price_category\", \"category_total\", \"percentage\", \"product_count\") \\\n",
    "    .orderBy(\"tier\", \"price_category\")\n",
    "\n",
    "\n",
    "# round both \n",
    "\n",
    "tier_price_distribution = tier_price_distribution.withColumn(\n",
    "    \"category_total\", \n",
    "    round(col(\"category_total\"), 2)\n",
    ").withColumn(\n",
    "    \"percentage\", \n",
    "    round(col(\"percentage\"), 2)\n",
    ")\n"
   ]
  },
  {
   "cell_type": "code",
   "execution_count": 14,
   "id": "d675732c-fb4a-4356-ac5e-f43e80d2eae8",
   "metadata": {},
   "outputs": [
    {
     "name": "stdout",
     "output_type": "stream",
     "text": [
      "Price Range Distribution for Gold Tier:\n"
     ]
    },
    {
     "name": "stderr",
     "output_type": "stream",
     "text": [
      "                                                                                \r"
     ]
    },
    {
     "name": "stdout",
     "output_type": "stream",
     "text": [
      "+----+--------------+--------------+----------+-------------+\n",
      "|tier|price_category|category_total|percentage|product_count|\n",
      "+----+--------------+--------------+----------+-------------+\n",
      "|Gold|        Budget|        214.93|      9.13|            7|\n",
      "|Gold|     Mid-range|        589.95|     25.05|            5|\n",
      "|Gold|       Premium|       1549.97|     65.82|            3|\n",
      "+----+--------------+--------------+----------+-------------+\n",
      "\n",
      "Price Range Distribution for Silver Tier:\n",
      "+------+--------------+--------------+----------+-------------+\n",
      "|  tier|price_category|category_total|percentage|product_count|\n",
      "+------+--------------+--------------+----------+-------------+\n",
      "|Silver|        Budget|        220.88|     25.96|           12|\n",
      "|Silver|     Mid-range|        629.95|     74.04|            5|\n",
      "+------+--------------+--------------+----------+-------------+\n",
      "\n",
      "Price Range Distribution for Bronze Tier:\n",
      "+------+--------------+--------------+----------+-------------+\n",
      "|  tier|price_category|category_total|percentage|product_count|\n",
      "+------+--------------+--------------+----------+-------------+\n",
      "|Bronze|        Budget|         89.97|     13.23|            3|\n",
      "|Bronze|     Mid-range|        189.99|     27.94|            1|\n",
      "|Bronze|       Premium|        399.99|     58.83|            1|\n",
      "+------+--------------+--------------+----------+-------------+\n",
      "\n"
     ]
    }
   ],
   "source": [
    "\n",
    "\n",
    "# Categorizing just for proper visualization \n",
    "\n",
    "\n",
    "gold_distribution = tier_price_distribution.filter(col(\"tier\") == \"Gold\")\n",
    "print(\"Price Range Distribution for Gold Tier:\")\n",
    "gold_distribution.show()\n",
    "\n",
    "silver_distribution = tier_price_distribution.filter(col(\"tier\") == \"Silver\")\n",
    "print(\"Price Range Distribution for Silver Tier:\")\n",
    "silver_distribution.show()\n",
    "\n",
    "bronze_distribution = tier_price_distribution.filter(col(\"tier\") == \"Bronze\")\n",
    "print(\"Price Range Distribution for Bronze Tier:\")\n",
    "bronze_distribution.show()\n",
    "\n",
    "\n"
   ]
  },
  {
   "cell_type": "markdown",
   "id": "69bac6b2-bf2e-4048-a6b5-412cddb11094",
   "metadata": {},
   "source": [
    "- This set of 3 tables for the **NEW TIERS** answers all the questions:\n",
    "  1. Distribution of spending per customer tier across budget, mid-range, and premium products\n",
    "        - Answered via:  values for NEW TIERS in columns: ```product_count``` ```category_total``` ```percentage```\n",
    "  2. Comparison between customer tier expediture practices \n",
    "     - Answered via: values for NEW TIERS in columns: ```product_count``` ```category_total``` ```percentage```ALONG WITH separation of tables for easy lookup.\n",
    "    "
   ]
  },
  {
   "cell_type": "markdown",
   "id": "ff30412d-7f7a-464d-93cf-001536fdf091",
   "metadata": {},
   "source": [
    "## Question 4"
   ]
  },
  {
   "cell_type": "code",
   "execution_count": 15,
   "id": "554bdf8a-bbe5-4b5f-86d9-d5c5e293a87d",
   "metadata": {},
   "outputs": [],
   "source": [
    "# Join with orders (excluding cancelled) and customers (similar to Q2.3 but with different columns)\n",
    "# We can reuse the classified_items DataFrame from Q2.3\n",
    "\n",
    "\n",
    "customer_spending_by_category = classified_items \\\n",
    "    .join(orders_df.filter(col(\"status\") != \"Cancelled\"), \"order_id\") \\\n",
    "    .join(customers_df, \"customer_id\") \\\n",
    "    .select(\"customer_id\", \"name\", \"tier\", \"price_category\", \"item_total\")\n"
   ]
  },
  {
   "cell_type": "code",
   "execution_count": 16,
   "id": "31fa7320-9c6d-4dd3-a3fb-82dcff5d1477",
   "metadata": {},
   "outputs": [],
   "source": [
    "\n",
    "# Calculate total spending by customer, tier, and price category\n",
    "\n",
    "customer_tier_price_spending = customer_spending_by_category \\\n",
    "    .groupBy(\"customer_id\", \"name\", \"tier\", \"price_category\") \\\n",
    "    .agg(sum(\"item_total\").alias(\"total_spent\"))\n",
    "\n",
    "\n"
   ]
  },
  {
   "cell_type": "code",
   "execution_count": 17,
   "id": "3531e83b-bdac-4df9-bf44-262a37b6b614",
   "metadata": {},
   "outputs": [],
   "source": [
    "\n",
    "\n",
    "# Rank customers within each tier-price category combination\n",
    "\n",
    "window_spec = Window.partitionBy(\"tier\", \"price_category\").orderBy(col(\"total_spent\").desc())\n",
    "ranked_customers = customer_tier_price_spending \\\n",
    "    .withColumn(\"rank\", F.rank().over(window_spec))\n"
   ]
  },
  {
   "cell_type": "code",
   "execution_count": 18,
   "id": "324d8018-de12-4658-bc59-068daee1c3e2",
   "metadata": {},
   "outputs": [],
   "source": [
    "\n",
    "\n",
    "\n",
    "# Filter to get top 2 customers in each NEW TIER price category combination\n",
    "\n",
    "top_customers = ranked_customers \\\n",
    "    .filter(col(\"rank\") <= 2) \\\n",
    "    .select(\"tier\", \"price_category\", \"customer_id\", \"name\", \"total_spent\", \"rank\") \\\n",
    "    .orderBy(\"tier\", \"price_category\", \"rank\")\n",
    "\n",
    "top_customers = top_customers.withColumn(\n",
    "    \"total_spent\", \n",
    "    round(col(\"total_spent\"), 2)\n",
    ")\n",
    "\n",
    "\n"
   ]
  },
  {
   "cell_type": "code",
   "execution_count": 19,
   "id": "1566a069-b437-465f-8a3e-e0d1132d7092",
   "metadata": {},
   "outputs": [
    {
     "name": "stdout",
     "output_type": "stream",
     "text": [
      "Top Gold Tier Customers:\n",
      "+----+--------------+-----------+--------------+-----------+----+\n",
      "|tier|price_category|customer_id|          name|total_spent|rank|\n",
      "+----+--------------+-----------+--------------+-----------+----+\n",
      "|Gold|        Budget|          1|    John Smith|     138.95|   1|\n",
      "|Gold|        Budget|         10|Jennifer Clark|      45.99|   2|\n",
      "|Gold|     Mid-range|          1|    John Smith|     349.98|   1|\n",
      "|Gold|     Mid-range|          7|James Anderson|     119.99|   2|\n",
      "|Gold|       Premium|          1|    John Smith|     999.99|   1|\n",
      "|Gold|       Premium|         10|Jennifer Clark|     299.99|   2|\n",
      "+----+--------------+-----------+--------------+-----------+----+\n",
      "\n",
      "Top Silver Tier Customers:\n",
      "+------+--------------+-----------+---------------+-----------+----+\n",
      "|  tier|price_category|customer_id|           name|total_spent|rank|\n",
      "+------+--------------+-----------+---------------+-----------+----+\n",
      "|Silver|        Budget|          2|   Mary Johnson|     107.95|   1|\n",
      "|Silver|        Budget|          5| Michael Wilson|      62.95|   2|\n",
      "|Silver|     Mid-range|          2|   Mary Johnson|     469.96|   1|\n",
      "|Silver|     Mid-range|          8|Patricia Thomas|     159.99|   2|\n",
      "+------+--------------+-----------+---------------+-----------+----+\n",
      "\n",
      "Top Bronze Tier Customers:\n",
      "+------+--------------+-----------+------------+-----------+----+\n",
      "|  tier|price_category|customer_id|        name|total_spent|rank|\n",
      "+------+--------------+-----------+------------+-----------+----+\n",
      "|Bronze|        Budget|          3|Robert Brown|      89.97|   1|\n",
      "|Bronze|     Mid-range|          3|Robert Brown|     189.99|   1|\n",
      "|Bronze|       Premium|          3|Robert Brown|     399.99|   1|\n",
      "+------+--------------+-----------+------------+-----------+----+\n",
      "\n"
     ]
    }
   ],
   "source": [
    "# Categorizing just for proper visualization \n",
    "\n",
    "\n",
    "gold_customers = top_customers.filter(col(\"tier\") == \"Gold\")\n",
    "print(\"Top Gold Tier Customers:\")\n",
    "gold_customers.show()\n",
    "\n",
    "silver_customers = top_customers.filter(col(\"tier\") == \"Silver\")\n",
    "print(\"Top Silver Tier Customers:\")\n",
    "silver_customers.show()\n",
    "\n",
    "bronze_customers = top_customers.filter(col(\"tier\") == \"Bronze\")\n",
    "print(\"Top Bronze Tier Customers:\")\n",
    "bronze_customers.show()\n"
   ]
  },
  {
   "cell_type": "markdown",
   "id": "54b80030-5194-48bc-9bc9-bf1edc4b58b2",
   "metadata": {},
   "source": [
    "- These tables show the top 2 highest-spending customers within each **NEW TIER**.\n",
    "- If there is only one person in the NEW TIER then it will show only that person "
   ]
  },
  {
   "cell_type": "code",
   "execution_count": 20,
   "id": "a747c7ef-d624-46ec-b5f8-e829515718b3",
   "metadata": {},
   "outputs": [
    {
     "name": "stdout",
     "output_type": "stream",
     "text": [
      "GG\n"
     ]
    }
   ],
   "source": [
    "print (\"GG\")"
   ]
  }
 ],
 "metadata": {
  "kernelspec": {
   "display_name": "Python [conda env:bigdata]",
   "language": "python",
   "name": "conda-env-bigdata-py"
  },
  "language_info": {
   "codemirror_mode": {
    "name": "ipython",
    "version": 3
   },
   "file_extension": ".py",
   "mimetype": "text/x-python",
   "name": "python",
   "nbconvert_exporter": "python",
   "pygments_lexer": "ipython3",
   "version": "3.12.9"
  }
 },
 "nbformat": 4,
 "nbformat_minor": 5
}
