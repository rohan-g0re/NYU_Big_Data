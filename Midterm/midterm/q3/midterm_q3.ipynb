{
 "cells": [
  {
   "cell_type": "markdown",
   "id": "d5570578-32a6-4f5f-8458-83ec9f14d88f",
   "metadata": {},
   "source": [
    "## Rohan Gore \n",
    "###### rmg9725@nyu.edu\n",
    "###### Collaborators: PerplexityAI\n",
    "###"
   ]
  },
  {
   "cell_type": "code",
   "execution_count": 20,
   "id": "046d3a77-0f83-452a-bf24-4254b213162a",
   "metadata": {},
   "outputs": [],
   "source": [
    "from pyspark.sql import SparkSession\n",
    "from pyspark.sql.functions import col, explode, row_number, count as count_, count, sum, avg, datediff, lit, udf, max as spark_max, round as round_\n",
    "from pyspark.sql.types import StringType\n",
    "from pyspark.sql import SparkSession\n",
    "from pyspark.sql.window import Window\n",
    "\n",
    "\n",
    "# Initialize Spark session\n",
    "spark = SparkSession.builder.appName(\"Customer Value Segmentation\").getOrCreate()\n",
    "\n",
    "# Load datasets\n",
    "customers_df = spark.read.json(\"customers.json\")\n",
    "orders_df = spark.read.json(\"orders.json\")\n",
    "order_items_df = spark.read.json(\"order_items.json\")"
   ]
  },
  {
   "cell_type": "markdown",
   "id": "396f88b0-bf3e-46af-ab86-4cd1f79e3e98",
   "metadata": {},
   "source": [
    "## Question 3.1"
   ]
  },
  {
   "cell_type": "code",
   "execution_count": 21,
   "id": "0c712a02-ab62-4bff-b9b2-65f6be22df3e",
   "metadata": {},
   "outputs": [],
   "source": [
    "\n",
    "# Calculate recency (days since last purchase)\n",
    "current_date = lit(\"2025-04-13\")\n",
    "recency_df = orders_df.filter(col(\"status\") == \"Completed\") \\\n",
    "    .groupBy(\"customer_id\") \\\n",
    "    .agg(datediff(current_date, spark_max(\"order_date\")).alias(\"recency_days\"))"
   ]
  },
  {
   "cell_type": "code",
   "execution_count": 14,
   "id": "03bcbd5e-349d-4244-b61a-71a2772abb0a",
   "metadata": {},
   "outputs": [],
   "source": [
    "\n",
    "\n",
    "# Calculate frequency (number of completed orders)\n",
    "frequency_df = orders_df.filter(col(\"status\") == \"Completed\") \\\n",
    "    .groupBy(\"customer_id\") \\\n",
    "    .agg(count(\"order_id\").alias(\"frequency\"))\n",
    "\n"
   ]
  },
  {
   "cell_type": "code",
   "execution_count": 15,
   "id": "0751419d-93f5-4994-9820-96669357cf56",
   "metadata": {},
   "outputs": [],
   "source": [
    "\n",
    "# Calculate monetary value (average order value)\n",
    "order_totals = order_items_df.groupBy(\"order_id\") \\\n",
    "    .agg(sum(col(\"quantity\") * col(\"unit_price\")).alias(\"order_total\"))\n",
    "avg_value_df = orders_df.filter(col(\"status\") == \"Completed\") \\\n",
    "    .join(order_totals, \"order_id\") \\\n",
    "    .groupBy(\"customer_id\") \\\n",
    "    .agg(avg(\"order_total\").alias(\"avg_value\"))\n",
    "\n",
    "\n"
   ]
  },
  {
   "cell_type": "code",
   "execution_count": 16,
   "id": "ed8dfc58-3486-4e55-aedc-8b8dd19c3e30",
   "metadata": {},
   "outputs": [],
   "source": [
    "\n",
    "avg_value_df = avg_value_df.withColumn(\"avg_value\", round_(\"avg_value\", 2))\n",
    "\n",
    "# rmf value\n",
    "rfm_df = recency_df \\\n",
    "    .join(frequency_df, \"customer_id\") \\\n",
    "    .join(avg_value_df, \"customer_id\")"
   ]
  },
  {
   "cell_type": "code",
   "execution_count": 17,
   "id": "1e69acc4-25a5-45ab-9dac-36e8b2364960",
   "metadata": {},
   "outputs": [],
   "source": [
    "# given function redefined\n",
    "\n",
    "def segment_customer(recency_days, frequency, avg_value):\n",
    "    \n",
    "    recency_score = 3 if recency_days <= 30 else (2 if recency_days <= 90 else 1)\n",
    "    frequency_score = 3 if frequency >= 3 else (2 if frequency >= 2 else 1)\n",
    "    value_score = 3 if avg_value >= 200 else (2 if avg_value >= 100 else 1)\n",
    "    \n",
    "    \n",
    "    total_score = recency_score + frequency_score + value_score\n",
    "    \n",
    "    if total_score >= 8:\n",
    "        return \"High Value\"\n",
    "    elif total_score >= 5:\n",
    "        return \"Medium Value\"\n",
    "    else:\n",
    "        return \"Low Value\""
   ]
  },
  {
   "cell_type": "code",
   "execution_count": 18,
   "id": "64e31349-b9fb-4d21-95b0-4f749160b6de",
   "metadata": {},
   "outputs": [
    {
     "name": "stdout",
     "output_type": "stream",
     "text": [
      "Customer Value Segmentation:\n",
      "+-----------+---------------+------+------------+\n",
      "|customer_id|           name|  tier|     segment|\n",
      "+-----------+---------------+------+------------+\n",
      "|          7| James Anderson|  Gold|Medium Value|\n",
      "|          1|     John Smith|  Gold|Medium Value|\n",
      "|         10| Jennifer Clark|  Gold|Medium Value|\n",
      "|          3|   Robert Brown|Bronze|Medium Value|\n",
      "|          8|Patricia Thomas|Silver|Medium Value|\n",
      "|          2|   Mary Johnson|Silver|Medium Value|\n",
      "|          4|    Linda Davis|  Gold|   Low Value|\n",
      "+-----------+---------------+------+------------+\n",
      "\n"
     ]
    }
   ],
   "source": [
    "segment_customer_udf = udf(segment_customer, StringType())\n",
    "\n",
    "customer_segments = rfm_df \\\n",
    "    .withColumn(\"segment\", segment_customer_udf(col(\"recency_days\"), col(\"frequency\"), col(\"avg_value\")))\n",
    "\n",
    "customer_segments_with_details = customer_segments \\\n",
    "    .join(customers_df, \"customer_id\") \\\n",
    "    .select(\"customer_id\", \"name\", \"tier\", \"segment\")\n",
    "\n",
    "# Watch results\n",
    "print(\"Customer Value Segmentation:\")\n",
    "customer_segments_with_details.show()\n",
    "\n",
    "\n"
   ]
  },
  {
   "cell_type": "code",
   "execution_count": 19,
   "id": "03e13076-3597-46b4-b84d-8545cbfb1e9f",
   "metadata": {},
   "outputs": [
    {
     "name": "stdout",
     "output_type": "stream",
     "text": [
      "Customer Count by Segment:\n",
      "+------------+-----+\n",
      "|     segment|count|\n",
      "+------------+-----+\n",
      "|   Low Value|    1|\n",
      "|Medium Value|    6|\n",
      "+------------+-----+\n",
      "\n"
     ]
    }
   ],
   "source": [
    "\n",
    "# Count customers in each segment\n",
    "segment_counts = customer_segments.groupBy(\"segment\").count().orderBy(\"segment\")\n",
    "print(\"Customer Count by Segment:\")\n",
    "segment_counts.show()"
   ]
  },
  {
   "cell_type": "markdown",
   "id": "9c62bb89-989e-45e0-998b-ee670fe29af0",
   "metadata": {},
   "source": [
    "## Question 3.2"
   ]
  },
  {
   "cell_type": "code",
   "execution_count": 9,
   "id": "037531c6-2d7d-426f-8ae2-31297fd4be88",
   "metadata": {},
   "outputs": [
    {
     "name": "stdout",
     "output_type": "stream",
     "text": [
      "Top 3 Categories for Each Customer:\n",
      "+-----------+---------------+-----------+--------------+----+\n",
      "|customer_id|           name|   category|purchase_count|rank|\n",
      "+-----------+---------------+-----------+--------------+----+\n",
      "|          1|     John Smith|electronics|             2|   1|\n",
      "|          1|     John Smith|       home|             2|   2|\n",
      "|          1|     John Smith|     garden|             1|   3|\n",
      "|          2|   Mary Johnson|   clothing|             1|   1|\n",
      "|          2|   Mary Johnson|accessories|             1|   2|\n",
      "|          2|   Mary Johnson|     health|             1|   3|\n",
      "|          3|   Robert Brown|       home|             1|   1|\n",
      "|          3|   Robert Brown|electronics|             1|   2|\n",
      "|          3|   Robert Brown|      books|             1|   3|\n",
      "|          4|    Linda Davis|   clothing|             1|   1|\n",
      "|          4|    Linda Davis|     sports|             1|   2|\n",
      "|          5| Michael Wilson| stationery|             1|   1|\n",
      "|          5| Michael Wilson|      books|             1|   2|\n",
      "|          7| James Anderson|   outdoors|             1|   1|\n",
      "|          7| James Anderson|     sports|             1|   2|\n",
      "|          8|Patricia Thomas|electronics|             1|   1|\n",
      "|          8|Patricia Thomas|accessories|             1|   2|\n",
      "|         10| Jennifer Clark|electronics|             1|   1|\n",
      "|         10| Jennifer Clark|      books|             1|   2|\n",
      "+-----------+---------------+-----------+--------------+----+\n",
      "\n"
     ]
    }
   ],
   "source": [
    "\n",
    "# Load datasets\n",
    "customers_df = spark.read.json(\"customers.json\")\n",
    "orders_df = spark.read.json(\"orders.json\")\n",
    "\n",
    "# Explode the categories array to get individual categories\n",
    "categories_df = orders_df.filter(col(\"status\") != \"Cancelled\") \\\n",
    "    .select(\"order_id\", \"customer_id\", explode(col(\"categories\")).alias(\"category\"))\n",
    "\n",
    "# Count category occurrences by customer\n",
    "category_counts_by_customer = categories_df \\\n",
    "    .groupBy(\"customer_id\", \"category\") \\\n",
    "    .agg(count_(\"*\").alias(\"purchase_count\"))\n",
    "\n",
    "# Rank categories for each customer by purchase count\n",
    "window_spec = Window.partitionBy(\"customer_id\").orderBy(col(\"purchase_count\").desc())\n",
    "ranked_categories = category_counts_by_customer \\\n",
    "    .withColumn(\"rank\", row_number().over(window_spec))\n",
    "\n",
    "# Filter to get top 3 categories for each customer\n",
    "top_categories = ranked_categories \\\n",
    "    .filter(col(\"rank\") <= 3) \\\n",
    "    .orderBy(\"customer_id\", \"rank\")\n",
    "\n",
    "# Join with customer information\n",
    "top_categories_with_details = top_categories \\\n",
    "    .join(customers_df, \"customer_id\") \\\n",
    "    .select(\"customer_id\", \"name\", \"category\", \"purchase_count\", \"rank\")\n",
    "\n",
    "# Show results\n",
    "print(\"Top 3 Categories for Each Customer:\")\n",
    "top_categories_with_details.show()\n"
   ]
  },
  {
   "cell_type": "code",
   "execution_count": 10,
   "id": "a86202f5-7cfc-4015-9c30-c842fb85d0e8",
   "metadata": {},
   "outputs": [
    {
     "name": "stdout",
     "output_type": "stream",
     "text": [
      "\n",
      "Detailed Top Categories by Customer:\n",
      "\n",
      "Customer: Linda Davis (ID: 4)\n",
      "Top Categories:\n",
      "  1. clothing - 1 purchases\n",
      "  2. sports - 1 purchases\n",
      "\n",
      "Customer: Mary Johnson (ID: 2)\n",
      "Top Categories:\n",
      "  1. clothing - 1 purchases\n",
      "  2. accessories - 1 purchases\n",
      "  3. health - 1 purchases\n",
      "\n",
      "Customer: Robert Brown (ID: 3)\n",
      "Top Categories:\n",
      "  1. home - 1 purchases\n",
      "  2. electronics - 1 purchases\n",
      "  3. books - 1 purchases\n",
      "\n",
      "Customer: John Smith (ID: 1)\n",
      "Top Categories:\n",
      "  1. electronics - 2 purchases\n",
      "  2. home - 2 purchases\n",
      "  3. garden - 1 purchases\n",
      "\n",
      "Customer: Jennifer Clark (ID: 10)\n",
      "Top Categories:\n",
      "  1. electronics - 1 purchases\n",
      "  2. books - 1 purchases\n",
      "\n",
      "Customer: Elizabeth Taylor (ID: 6)\n",
      "Top Categories:\n",
      "  No purchase history found\n",
      "\n",
      "Customer: Michael Wilson (ID: 5)\n",
      "Top Categories:\n",
      "  1. stationery - 1 purchases\n",
      "  2. books - 1 purchases\n",
      "\n",
      "Customer: Richard Martin (ID: 9)\n",
      "Top Categories:\n",
      "  No purchase history found\n",
      "\n",
      "Customer: James Anderson (ID: 7)\n",
      "Top Categories:\n",
      "  1. outdoors - 1 purchases\n",
      "  2. sports - 1 purchases\n",
      "\n",
      "Customer: Patricia Thomas (ID: 8)\n",
      "Top Categories:\n",
      "  1. electronics - 1 purchases\n",
      "  2. accessories - 1 purchases\n"
     ]
    }
   ],
   "source": [
    "\n",
    "print(\"\\nDetailed Top Categories by Customer:\")\n",
    "customers = customers_df.select(\"customer_id\", \"name\").distinct().collect()\n",
    "\n",
    "for customer in customers:\n",
    "    customer_id = customer[\"customer_id\"]\n",
    "    customer_name = customer[\"name\"]\n",
    "    \n",
    "    print(f\"\\nCustomer: {customer_name} (ID: {customer_id})\")\n",
    "    print(\"Top Categories:\")\n",
    "    \n",
    "    top_cats = top_categories.filter(col(\"customer_id\") == customer_id).collect()\n",
    "    \n",
    "    if top_cats:\n",
    "        for cat in top_cats:\n",
    "            print(f\"  {cat['rank']}. {cat['category']} - {cat['purchase_count']} purchases\")\n",
    "    else:\n",
    "        print(\"  No purchase history found\")\n"
   ]
  },
  {
   "cell_type": "code",
   "execution_count": 22,
   "id": "3ef0f388-baef-4f8a-8cf2-5bdcb0037bd5",
   "metadata": {},
   "outputs": [
    {
     "name": "stdout",
     "output_type": "stream",
     "text": [
      "GG\n"
     ]
    }
   ],
   "source": [
    "print (\"GG\")"
   ]
  }
 ],
 "metadata": {
  "kernelspec": {
   "display_name": "Python [conda env:bigdata]",
   "language": "python",
   "name": "conda-env-bigdata-py"
  },
  "language_info": {
   "codemirror_mode": {
    "name": "ipython",
    "version": 3
   },
   "file_extension": ".py",
   "mimetype": "text/x-python",
   "name": "python",
   "nbconvert_exporter": "python",
   "pygments_lexer": "ipython3",
   "version": "3.12.9"
  }
 },
 "nbformat": 4,
 "nbformat_minor": 5
}
